import torch
import torch.nn as nn
import torch.optim as optim
import numpy as np
import random
from collections import deque
import gym
from gym import spaces

# Check if GPU is available, otherwise use CPU
device = torch.device("cpu")
print(f"Using device: {device}")


# Define the 2D Warehouse Environment
class WarehouseEnv(gym.Env):
    def __init__(self):
        super(WarehouseEnv, self).__init__()
        self.action_space = spaces.Box(low=-1.0, high=1.0, shape=(2,), dtype=np.float32)  # Actions: move in x and y
        self.observation_space = spaces.Box(low=0, high=1, shape=(10, 10), dtype=np.float32)  # 10x10 grid

        # Initialize environment state
        self.robot_position = [5, 5]
        self.static_objects = np.random.choice([0, 1], size=(10, 10), p=[0.9, 0.1])  # Static obstacles
        self.dynamic_objects = np.zeros((10, 10))  # Dynamic obstacles (moving)
        self.goal_position = [9, 9]
        self.step_count = 0
        self.max_steps = 500

    def reset(self):
        self.robot_position = [5, 5]
        self.dynamic_objects = np.zeros((10, 10))
        self.step_count = 0
        return self._get_observation()

    def _get_observation(self):
        grid = np.zeros((10, 10))
        grid[self.robot_position[0], self.robot_position[1]] = 1  # Robot's position
        grid += self.static_objects  # Add static obstacles
        return grid

    def step(self, action):
        self.step_count += 1
        dx, dy = int(action[0]), int(action[1])  # Movement in x and y directions
        new_x = max(0, min(9, self.robot_position[0] + dx))
        new_y = max(0, min(9, self.robot_position[1] + dy))
        self.robot_position = [new_x, new_y]

        # Reward logic
        reward = -1  # Step penalty
        if self.robot_position == self.goal_position:
            reward += 100  # Reaching goal
            done = True
            print(f"Goal reached at step {self.step_count}!")
        elif self.static_objects[new_x, new_y] or self.dynamic_objects[new_x, new_y]:
            reward -= 10  # Collision penalty
            done = True
        elif self.step_count >= self.max_steps:
            done = True
        else:
            done = False

       
        self.dynamic_objects = np.random.choice([0, 1], size=(10, 10), p=[0.9, 0.1])

        return self._get_observation(), reward, done, {}

    def render(self, mode='human'):
        print(f"Robot Position: {self.robot_position}")

# Define the Actor and Critic Networks
class Actor(nn.Module):
    def __init__(self, state_dim, action_dim, max_action):
        super(Actor, self).__init__()
        self.layer1 = nn.Linear(state_dim, 256)
        self.layer2 = nn.Linear(256, 256)
        self.layer3 = nn.Linear(256, action_dim)
        self.max_action = max_action

    def forward(self, x):
        x = torch.relu(self.layer1(x))
        x = torch.relu(self.layer2(x))
        return self.max_action * torch.tanh(self.layer3(x))


class Critic(nn.Module):
    def __init__(self, state_dim, action_dim):
        super(Critic, self).__init__()
        self.layer1 = nn.Linear(state_dim + action_dim, 256)
        self.layer2 = nn.Linear(256, 256)
        self.layer3 = nn.Linear(256, 1)

    def forward(self, x, u):
        xu = torch.cat([x, u], 1)
        x = torch.relu(self.layer1(xu))
        x = torch.relu(self.layer2(x))
        return self.layer3(x)


# TD3 Agent
class TD3:
    def __init__(self, state_dim, action_dim, max_action):
        self.actor = Actor(state_dim, action_dim, max_action).to(device)
        self.actor_target = Actor(state_dim, action_dim, max_action).to(device)
        self.actor_target.load_state_dict(self.actor.state_dict())
        self.actor_optimizer = optim.Adam(self.actor.parameters(), lr=3e-4)

        self.critic1 = Critic(state_dim, action_dim).to(device)
        self.critic2 = Critic(state_dim, action_dim).to(device)
        self.critic1_target = Critic(state_dim, action_dim).to(device)
        self.critic2_target = Critic(state_dim, action_dim).to(device)
        self.critic1_target.load_state_dict(self.critic1.state_dict())
        self.critic2_target.load_state_dict(self.critic2.state_dict())
        self.critic_optimizer = optim.Adam(
            list(self.critic1.parameters()) + list(self.critic2.parameters()), lr=3e-4
        )

        self.max_action = max_action
        self.replay_buffer = deque(maxlen=1000000)
        self.batch_size = 256
        self.gamma = 0.99
        self.tau = 0.005
        self.policy_noise = 0.2
        self.noise_clip = 0.5
        self.policy_freq = 2
        self.total_it = 0

    def select_action(self, state):
        """Select action using the actor network."""
        state = torch.FloatTensor(state).to(device)  # Convert state to tensor and send to device
        action = self.actor(state)  # Pass state through actor
        return action.cpu().data.numpy().flatten()  # Return action as a NumPy array

    def train(self):
        if len(self.replay_buffer) < self.batch_size:
            return

        batch = random.sample(self.replay_buffer, self.batch_size)
        state, action, next_state, reward, done = zip(*batch)

        state = torch.FloatTensor(state).to(device)
        action = torch.FloatTensor(action).to(device)
        next_state = torch.FloatTensor(next_state).to(device)
        reward = torch.FloatTensor(reward).to(device)
        done = torch.FloatTensor(done).to(device)

        # Critic update
        next_action = self.actor_target(next_state)
        target_q1 = self.critic1_target(next_state, next_action)
        target_q2 = self.critic2_target(next_state, next_action)

        target_q = reward + (1 - done) * self.gamma * torch.min(target_q1, target_q2)
        current_q1 = self.critic1(state, action)
        current_q2 = self.critic2(state, action)

        critic1_loss = torch.mean((current_q1 - target_q) ** 2)
        critic2_loss = torch.mean((current_q2 - target_q) ** 2)

         # Combine critic losses and perform a single backward pass
        critic_loss = critic1_loss + critic2_loss 
        critic_loss.backward() 
        self.critic_optimizer.zero_grad()
        
        self.critic_optimizer.step()

        # Actor update
        if self.total_it % self.policy_freq == 0:
            actor_loss = -self.critic1(state, self.actor(state)).mean()

            self.actor_optimizer.zero_grad()
            actor_loss.backward(retain_graph=True)  # Retain the graph here
            self.actor_optimizer.step()

            # Update target networks
            for param, target_param in zip(self.actor.parameters(), self.actor_target.parameters()):
                target_param.data.copy_(self.tau * param.data + (1 - self.tau) * target_param.data)
            for param, target_param in zip(self.critic1.parameters(), self.critic1_target.parameters()):
                target_param.data.copy_(self.tau * param.data + (1 - self.tau) * target_param.data)
            for param, target_param in zip(self.critic2.parameters(), self.critic2_target.parameters()):
                target_param.data.copy_(self.tau * param.data + (1 - self.tau) * target_param.data)

        self.total_it += 1
# Main Training Loop
env = WarehouseEnv()
state_dim = np.prod(env.observation_space.shape)  # Flatten the 10x10 grid into a 100-dimensional vector
action_dim = env.action_space.shape[0]  # Number of actions (move in x and y)
max_action = float(env.action_space.high[0])

agent = TD3(state_dim, action_dim, max_action)

for episode in range(1000):
    state = env.reset()
    print(f"Starting Position: {state}")
    episode_reward = 0
    for step in range(env.max_steps):
        state = state.flatten()  # Flatten the state (10x10 grid) into a 1D array of size 100
        action = agent.select_action(state)
        action = action + np.random.normal(0, 0.1, size=action.shape)
        action2 = np.clip(action, -1.0, 1.0)  # Ensure actions are within bounds
        print(f"Selected Action: {action}")
        next_state, reward, done, _ = env.step(action)
        agent.replay_buffer.append((state, action, next_state.flatten(), reward, float(done)))
        state = next_state
        episode_reward += reward

        if len(agent.replay_buffer) > agent.batch_size:
            agent.train()  # Train the agent on the experience replay buffer
        if done:
            break
    print(f"Episode: {episode}, Reward: {episode_reward}")

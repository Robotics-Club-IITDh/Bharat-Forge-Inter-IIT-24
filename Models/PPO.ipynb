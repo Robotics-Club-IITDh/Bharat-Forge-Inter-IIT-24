{
 "cells": [
  {
   "cell_type": "code",
   "execution_count": null,
   "metadata": {
    "colab": {
     "base_uri": "https://localhost:8080/"
    },
    "executionInfo": {
     "elapsed": 30640,
     "status": "ok",
     "timestamp": 1733384653943,
     "user": {
      "displayName": "Maitreyee",
      "userId": "08975148624699776347"
     },
     "user_tz": -330
    },
    "id": "fiYLWSoMdwsC",
    "outputId": "8fcf494a-b3f1-49d8-9c68-7de3506c895b"
   },
   "outputs": [
    {
     "name": "stderr",
     "output_type": "stream",
     "text": [
      "e:\\HackathonProject\\cs\\Lib\\site-packages\\gym\\utils\\passive_env_checker.py:233: DeprecationWarning: `np.bool8` is a deprecated alias for `np.bool_`.  (Deprecated NumPy 1.24)\n",
      "  if not isinstance(terminated, (bool, np.bool8)):\n"
     ]
    },
    {
     "name": "stdout",
     "output_type": "stream",
     "text": [
      "Episode 0: Weights saved\n",
      "Episode 50: Weights saved\n",
      "Episode 100: Weights saved\n",
      "Episode 150: Weights saved\n",
      "Episode 200: Weights saved\n",
      "Episode 250: Weights saved\n",
      "Episode 300: Weights saved\n",
      "Episode 350: Weights saved\n",
      "Episode 400: Weights saved\n",
      "Episode 450: Weights saved\n",
      "Episode 500: Weights saved\n",
      "Episode 550: Weights saved\n",
      "Episode 600: Weights saved\n",
      "Episode 650: Weights saved\n",
      "Episode 700: Weights saved\n",
      "Episode 750: Weights saved\n",
      "Episode 800: Weights saved\n",
      "Episode 850: Weights saved\n",
      "Episode 900: Weights saved\n",
      "Episode 950: Weights saved\n"
     ]
    }
   ],
   "source": []
  },
  {
   "cell_type": "code",
   "execution_count": null,
   "metadata": {
    "colab": {
     "base_uri": "https://localhost:8080/",
     "height": 17
    },
    "executionInfo": {
     "elapsed": 19,
     "status": "ok",
     "timestamp": 1733384653945,
     "user": {
      "displayName": "Maitreyee",
      "userId": "08975148624699776347"
     },
     "user_tz": -330
    },
    "id": "fKUOs9dEwA2R",
    "outputId": "167e7b54-32e7-42bd-f958-bac6e9bda555"
   },
   "outputs": [
    {
     "ename": "ModuleNotFoundError",
     "evalue": "No module named 'google.colab'",
     "output_type": "error",
     "traceback": [
      "\u001b[1;31m---------------------------------------------------------------------------\u001b[0m",
      "\u001b[1;31mModuleNotFoundError\u001b[0m                       Traceback (most recent call last)",
      "Cell \u001b[1;32mIn[3], line 1\u001b[0m\n\u001b[1;32m----> 1\u001b[0m \u001b[38;5;28;01mfrom\u001b[39;00m \u001b[38;5;21;01mgoogle\u001b[39;00m\u001b[38;5;21;01m.\u001b[39;00m\u001b[38;5;21;01mcolab\u001b[39;00m \u001b[38;5;28;01mimport\u001b[39;00m files\n\u001b[0;32m      2\u001b[0m files\u001b[38;5;241m.\u001b[39mdownload(\u001b[38;5;124m\"\u001b[39m\u001b[38;5;124mppo_weights.pth\u001b[39m\u001b[38;5;124m\"\u001b[39m)\n",
      "\u001b[1;31mModuleNotFoundError\u001b[0m: No module named 'google.colab'"
     ]
    }
   ],
   "source": []
  },
  {
   "cell_type": "code",
   "execution_count": 5,
   "metadata": {},
   "outputs": [
    {
     "name": "stdout",
     "output_type": "stream",
     "text": [
      "Weights saved to ppo_weights.pth\n",
      "Episode 0: Weights saved\n",
      "Weights saved to ppo_weights.pth\n",
      "Episode 50: Weights saved\n",
      "Weights saved to ppo_weights.pth\n",
      "Episode 100: Weights saved\n",
      "Weights saved to ppo_weights.pth\n",
      "Episode 150: Weights saved\n",
      "Weights saved to ppo_weights.pth\n",
      "Episode 200: Weights saved\n",
      "Weights saved to ppo_weights.pth\n",
      "Episode 250: Weights saved\n",
      "Weights saved to ppo_weights.pth\n",
      "Episode 300: Weights saved\n",
      "Weights saved to ppo_weights.pth\n",
      "Episode 350: Weights saved\n",
      "Weights saved to ppo_weights.pth\n",
      "Episode 400: Weights saved\n",
      "Weights saved to ppo_weights.pth\n",
      "Episode 450: Weights saved\n",
      "Weights saved to ppo_weights.pth\n",
      "Episode 500: Weights saved\n",
      "Weights saved to ppo_weights.pth\n",
      "Episode 550: Weights saved\n",
      "Weights saved to ppo_weights.pth\n",
      "Episode 600: Weights saved\n",
      "Weights saved to ppo_weights.pth\n",
      "Episode 650: Weights saved\n",
      "Weights saved to ppo_weights.pth\n",
      "Episode 700: Weights saved\n",
      "Weights saved to ppo_weights.pth\n",
      "Episode 750: Weights saved\n",
      "Weights saved to ppo_weights.pth\n",
      "Episode 800: Weights saved\n",
      "Weights saved to ppo_weights.pth\n",
      "Episode 850: Weights saved\n",
      "Weights saved to ppo_weights.pth\n",
      "Episode 900: Weights saved\n",
      "Weights saved to ppo_weights.pth\n",
      "Episode 950: Weights saved\n"
     ]
    }
   ],
   "source": [
    "import torch\n",
    "import torch.nn as nn\n",
    "import torch.optim as optim\n",
    "import numpy as np\n",
    "import gym  # Or integrate with ROS2 environment\n",
    "from collections import deque\n",
    "\n",
    "class PPOModel(nn.Module):\n",
    "    def __init__(self, state_dim, action_dim, hidden_dim=256):\n",
    "        super(PPOModel, self).__init__()\n",
    "        self.fc1 = nn.Linear(state_dim, hidden_dim)\n",
    "        self.fc2 = nn.Linear(hidden_dim, hidden_dim)\n",
    "        self.actor = nn.Linear(hidden_dim, action_dim)\n",
    "        self.critic = nn.Linear(hidden_dim, 1)\n",
    "\n",
    "    def forward(self, state):\n",
    "        x = torch.relu(self.fc1(state))\n",
    "        x = torch.relu(self.fc2(x))\n",
    "        action_probs = torch.softmax(self.actor(x), dim=-1)\n",
    "        action = torch.distributions.Categorical(action_probs).sample()\n",
    "        value = self.critic(x)\n",
    "        return action, value\n",
    "\n",
    "\n",
    "class PPOTrainer:\n",
    "    def __init__(self, env, model, gamma=0.99, clip_epsilon=0.2, lr=3e-4, policy_epochs=6, entropy_coeff=0.01):\n",
    "        self.env = env\n",
    "        self.model = model\n",
    "        self.optimizer = optim.Adam(self.model.parameters(), lr=lr)\n",
    "        self.gamma = gamma\n",
    "        self.clip_epsilon = clip_epsilon\n",
    "        self.policy_epochs = policy_epochs\n",
    "        self.entropy_coeff = entropy_coeff\n",
    "        self.buffer = []  # Replay buffer\n",
    "\n",
    "    def collect_trajectory(self, max_steps):\n",
    "        state = self.env.reset()[0]  # Modify reset() to extract state\n",
    "        trajectory = []\n",
    "        for _ in range(max_steps):\n",
    "            state_tensor = torch.tensor(state, dtype=torch.float32).unsqueeze(0)\n",
    "            action, value = self.model(state_tensor)\n",
    "            action = action.item()\n",
    "\n",
    "            next_state, reward, done, _, info = self.env.step(action)\n",
    "            trajectory.append((state, action, reward, next_state, done))\n",
    "\n",
    "            state = next_state\n",
    "            if done:\n",
    "                break\n",
    "        self.buffer.extend(trajectory)\n",
    "\n",
    "    def compute_advantages(self, rewards, values, dones):\n",
    "        advantages = []\n",
    "        returns = []\n",
    "        G = 0\n",
    "        for reward, value, done in zip(reversed(rewards), reversed(values), reversed(dones)):\n",
    "            G = reward + self.gamma * G * (1 - done)\n",
    "            returns.insert(0, G)\n",
    "            advantages.insert(0, G - value)\n",
    "        return torch.tensor(returns, dtype=torch.float32), torch.tensor(advantages, dtype=torch.float32)\n",
    "\n",
    "    def train(self, batch_size=64):\n",
    "        # Process trajectory from buffer\n",
    "        states, actions, rewards, next_states, dones = zip(*self.buffer)\n",
    "        states = torch.tensor(np.array(states), dtype=torch.float32)\n",
    "        actions = torch.tensor(np.array(actions), dtype=torch.float32)\n",
    "        rewards = torch.tensor(np.array(rewards), dtype=torch.float32)\n",
    "        dones = torch.tensor(np.array(dones), dtype=torch.float32)\n",
    "\n",
    "        _, values = self.model(states)\n",
    "        values = values.squeeze()\n",
    "\n",
    "        # Compute advantages\n",
    "        returns, advantages = self.compute_advantages(rewards, values, dones)\n",
    "\n",
    "        for _ in range(self.policy_epochs):\n",
    "            # PPO Optimization Loop\n",
    "            action_preds, value_preds = self.model(states)\n",
    "            value_preds = value_preds.squeeze()\n",
    "\n",
    "            # Policy Loss\n",
    "            ratios = (action_preds - actions).pow(2).mean(dim=-1)  # Approximate policy divergence\n",
    "            clipped_ratios = torch.clamp(ratios, 1 - self.clip_epsilon, 1 + self.clip_epsilon)\n",
    "            actor_loss = -torch.min(ratios * advantages, clipped_ratios * advantages).mean()\n",
    "\n",
    "            # Value Loss\n",
    "            critic_loss = nn.MSELoss()(value_preds, returns)\n",
    "\n",
    "            # Entropy Loss\n",
    "            entropy_loss = -self.entropy_coeff * torch.sum(-action_preds * torch.log(action_preds + 1e-8))\n",
    "\n",
    "            loss = actor_loss + 0.5 * critic_loss + entropy_loss\n",
    "\n",
    "            self.optimizer.zero_grad()\n",
    "            loss.backward()\n",
    "            self.optimizer.step()\n",
    "\n",
    "        self.buffer = []  # Clear buffer after training\n",
    "\n",
    "    def save_weights(self, filename=\"ppo_weights.pth\"):\n",
    "        \"\"\"Save only the model's weights (state_dict).\"\"\"\n",
    "        torch.save(self.model.state_dict(), filename)\n",
    "        print(f\"Weights saved to {filename}\")\n",
    "\n",
    "\n",
    "# Main Training Loop\n",
    "if __name__ == \"__main__\":\n",
    "    env = gym.make('CartPole-v1')  # Replace with ROS2 environment or custom simulation\n",
    "    state_dim = env.observation_space.shape[0]\n",
    "    action_dim = env.action_space.n if hasattr(env.action_space, 'n') else env.action_space.shape[0]\n",
    "\n",
    "    model = PPOModel(state_dim, action_dim)\n",
    "    trainer = PPOTrainer(env, model)\n",
    "\n",
    "    episodes = 1000\n",
    "    max_steps = 200\n",
    "    for episode in range(episodes):\n",
    "        trainer.collect_trajectory(max_steps)\n",
    "        trainer.train()\n",
    "\n",
    "        # Save weights every 50 episodes\n",
    "        if episode % 50 == 0:\n",
    "            trainer.save_weights(\"ppo_weights.pth\")\n",
    "            print(f\"Episode {episode}: Weights saved\")\n"
   ]
  }
 ],
 "metadata": {
  "accelerator": "GPU",
  "colab": {
   "authorship_tag": "ABX9TyMTDSKpG8i4t+oPx07v9vg3",
   "gpuType": "T4",
   "provenance": []
  },
  "kernelspec": {
   "display_name": "cs",
   "language": "python",
   "name": "python3"
  },
  "language_info": {
   "codemirror_mode": {
    "name": "ipython",
    "version": 3
   },
   "file_extension": ".py",
   "mimetype": "text/x-python",
   "name": "python",
   "nbconvert_exporter": "python",
   "pygments_lexer": "ipython3",
   "version": "3.12.4"
  }
 },
 "nbformat": 4,
 "nbformat_minor": 0
}
